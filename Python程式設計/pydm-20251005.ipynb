{
 "cells": [
  {
   "attachments": {},
   "cell_type": "markdown",
   "id": "902c4341-72e7-4df6-87ad-82b163d2aa96",
   "metadata": {},
   "source": [
    "# Python Development More <font size=4>© Enos Chou</font>"
   ]
  },
  {
   "cell_type": "markdown",
   "id": "fce869f3-5c7a-49a1-a78f-969633d52bcc",
   "metadata": {},
   "source": [
    "<b>Cases</b><br>\n",
    "<ol>\n",
    "    <li><a href=\"#pdt\">資料結構設計與運用--學生資料儲存、維護，與計算</a></li>\n",
    "    <li><a href=\"#jso\">JSON 資料運用--讀取天氣資料</a></li>\n",
    "    <li><a href=\"#if\">基礎判斷式--猜拳</a></li>\n",
    "    <li><a href=\"#nl\">基礎巢狀迴圈--完美列印九九乘法表</a></li>\n",
    "    <li><a href=\"#flag\">旗標應用--Missing Number</a></li>\n",
    "    <li><a href=\"#nl2\">巢狀迴圈搭配雙層 List 應用--Valid Sudoku</a></li>\n",
    "    <li><a href=\"#dil\">資料結構設計、判斷式、迴圈綜合應用--大老二一決勝負</a></li>\n",
    "    <li><a href=\"#ila\">判斷式、迴圈、演算法綜合應用--遊戲選角、成績指標</a></li>\n",
    "    <li><a href=\"#pa\">效率衡量--泡泡排序</a></li>\n",
    "    <li><a href=\"#fh\">檔案處理與分析--Log 分析</a></li>\n",
    "    <li><a href=\"#csv\">檔案處理與分析--CSV 分析</a></li>\n",
    "    <li><a href=\"#dfh\">目錄與檔案處理--計算樹木</a></li>\n",
    "    <li><a href=\"#ftd\">容錯設計--猜數字</a></li>\n",
    "    <li><a href=\"#cd\">類別設計--大老二莊家</a></li>\n",
    "    <li><a href=\"#alg\">演算法演練--Move Zeros</a></li>\n",
    "    <li><a href=\"#alg2\">演算法挑戰--Best Time to Buy and Sell Stock</a></li>\n",
    "</ol>"
   ]
  },
  {
   "cell_type": "markdown",
   "id": "795fc016-d9bc-4f77-99dc-1f9b935c0687",
   "metadata": {},
   "source": [
    "## <div id=\"pdt\"><font color=\"blue\">1. 資料結構設計與運用</font></div>"
   ]
  },
  {
   "cell_type": "markdown",
   "id": "2f51f2a9-13d4-409f-8f53-3d4440f06486",
   "metadata": {},
   "source": [
    "## <font color=\"brown\">學生資料儲存、維護，與計算</font>\n",
    "\n",
    "<b>Tech</b>\n",
    "<ol>\n",
    "    <li>Composite data types</li>\n",
    "    <li>Operators</li>\n",
    "    <li>Loop</li>\n",
    "</ol>\n",
    "\n",
    "<b>Tasks</b>\n",
    "<ol>\n",
    "    <li>儲存下列 10 位學生資料，並印出 Bill 的身高體重</li>\n",
    "        <tt><font color='blue'>Bill's height: 168cm, weight: 70kg</font></tt>\n",
    "    <li>計算每位學生的 BMI 並儲存至上述資料結構</li>\n",
    "    <li>計算並輸出所有學生的 平均 BMI、BMI 變異數、BMI 標準差</li>\n",
    "        <tt><font color='blue'>\n",
    "        mean bmi is 23.238 kg/m²<br>\n",
    "        var bmi is 4.158 (kg/m²)²<br>\n",
    "        std bmi is 2.039 kg/m²<br>\n",
    "        </font></tt>\n",
    "    </li>\n",
    "</ol>\n",
    "\n",
    "<b>Data</b>\n",
    "\n",
    "<tt>\n",
    "David&nbsp;&nbsp;&nbsp;&nbsp;180cm 85kg<br>\n",
    "John&nbsp;&nbsp;&nbsp;&nbsp;&nbsp;172cm 72kg<br>\n",
    "Mary&nbsp;&nbsp;&nbsp;&nbsp;&nbsp;158cm 51kg<br>\n",
    "Lora&nbsp;&nbsp;&nbsp;&nbsp;&nbsp;160cm 49kg<br>\n",
    "Bill&nbsp;&nbsp;&nbsp;&nbsp;&nbsp;168cm 70kg<br>\n",
    "Elsa&nbsp;&nbsp;&nbsp;&nbsp;&nbsp;154cm 55kg<br>\n",
    "Golden&nbsp;&nbsp;&nbsp;176cm 69kg<br>\n",
    "Jason&nbsp;&nbsp;&nbsp;&nbsp;182cm 77kg<br>\n",
    "Larry&nbsp;&nbsp;&nbsp;&nbsp;160cm 64kg<br>\n",
    "Michelle 155cm 57kg<br>\n",
    "</tt><br>\n",
    "\n",
    "<b>Hints</b>\n",
    "<tt><ol>\n",
    "    <li><font color=\"green\">dict</font>-oriented design\n",
    "    <li><font color=\"green\">list</font>-oriented design\n",
    "</ol></tt>"
   ]
  },
  {
   "cell_type": "markdown",
   "id": "1862e4aa-7bd6-4d4b-aaac-648589eb8099",
   "metadata": {},
   "source": [
    "## <div id=\"jso\"><font color=\"blue\">2. JSON 資料運用</font></div>"
   ]
  },
  {
   "cell_type": "markdown",
   "id": "bc156349-88d2-484b-bcca-ac1d6be5b81a",
   "metadata": {},
   "source": [
    "### <font color=\"brown\">讀取天氣資料</font>\n",
    "\n",
    "<b>Tech</b>\n",
    "<ol>\n",
    "    <li>Composite data types</li>\n",
    "    <li>Loop</li>\n",
    "</ol>\n",
    "\n",
    "<b>Tasks</b>\n",
    "<ol>\n",
    "    <li>讀取 CWA_O-A0001-001.json，查詢硬漢嶺現在溫度</li>\n",
    "        <tt><font color='blue'>硬漢嶺 25.7 度</font></tt>\n",
    "    <li>用程式找出硬漢嶺現在溫度</li>\n",
    "</ol>\n",
    "\n",
    "\n",
    "<b>Hints</b>\n",
    "\n",
    "<ol>\n",
    "    <li>讀取 JSON 檔範例</li>\n",
    "</ol>"
   ]
  },
  {
   "cell_type": "code",
   "execution_count": null,
   "id": "f562f3f7-8087-478e-8ccb-fab75531f70d",
   "metadata": {},
   "outputs": [],
   "source": [
    "import json\n",
    "\n",
    "with open('CWA_O-A0001-001.json', encoding='utf-8') as f:\n",
    "    info = json.load(f)"
   ]
  },
  {
   "cell_type": "markdown",
   "id": "8cc5ed4a-0874-4d26-a8f1-aa0951ba54c1",
   "metadata": {},
   "source": [
    "## <div id=\"if\"><font color=\"blue\">3. 基礎判斷式</font></div>"
   ]
  },
  {
   "cell_type": "markdown",
   "id": "415417e9-778d-471b-98a2-cffa93502219",
   "metadata": {},
   "source": [
    "## <font color=\"brown\">猜拳</font>\n",
    "\n",
    "<b>Tech</b>\n",
    "<ol>\n",
    "    <li>if-elif-else</li>\n",
    "    <li>random</li>\n",
    "    <li>input</li>\n",
    "</ol>\n",
    "\n",
    "<b>Tasks</b>\n",
    "<ol>\n",
    "    <li>實作猜拳遊戲，讓用戶跟電腦猜拳。猜一把就好</li>\n",
    "    <li>實作猜拳遊戲，讓用戶跟電腦猜拳。贏兩把才算贏</li>\n",
    "    <li>(進階) 承上，設計讓用戶出的拳跟電腦出的拳直接比較，例如：當 a 為剪刀、b 為布，a > b == True</li>\n",
    "</ol>\n",
    "\n",
    "<b>Output</b>\n",
    "<br><br>\n",
    "<tt>\n",
    "請出拳 ('剪刀', '石頭', '布') 剪刀<br>\n",
    "user: 剪刀 vs computer: 布 ... user 贏<br>\n",
    "請出拳 ('剪刀', '石頭', '布') 布<br>\n",
    "user: 布 vs computer: 剪刀 ... user 輸<br>\n",
    "請出拳 ('剪刀', '石頭', '布') 石頭<br>\n",
    "user: 石頭 vs computer: 石頭 ... 平手<br>\n",
    "請出拳 ('剪刀', '石頭', '布') 布<br>\n",
    "user: 布 vs computer: 剪刀 ... user 輸<br>\n",
    "抱歉失敗<br>\n",
    "</tt>"
   ]
  },
  {
   "cell_type": "markdown",
   "id": "8f8a618b-464b-4627-a867-134a4a3fc9ae",
   "metadata": {},
   "source": [
    "## <div id=\"nl\"><font color=\"blue\">4. 基礎巢狀迴圈</font></div>"
   ]
  },
  {
   "cell_type": "markdown",
   "id": "2be4d07f-a6c6-4df0-b3f7-6a8221749f9f",
   "metadata": {},
   "source": [
    "## <font color=\"brown\">完美列印九九乘法表</font>\n",
    "\n",
    "<b>Tech</b>\n",
    "<ol>\n",
    "    <li>Nested loop</li>\n",
    "    <li>print arguments</li>\n",
    "</ol>\n",
    "\n",
    "\n",
    "<b>Tasks</b>\n",
    "<ol>\n",
    "    <li>整齊印出如下的九九乘法表 (注意空格)</li>\n",
    "</ol>\n",
    "\n",
    "<b>Output</b>\n",
    "\n",
    "<tt><font color='blue'>\n",
    "1 x 1 =  1 2 x 1 = &nbsp;2 3 x 1 = &nbsp;3 4 x 1 = &nbsp;4 5 x 1 = &nbsp;5 6 x 1 = &nbsp;6 7 x 1 = &nbsp;7 8 x 1 = &nbsp;8 9 x 1 = &nbsp;9<br> \n",
    "1 x 2 =  2 2 x 2 = &nbsp;4 3 x 2 = &nbsp;6 4 x 2 = &nbsp;8 5 x 2 = 10 6 x 2 = 12 7 x 2 = 14 8 x 2 = 16 9 x 2 = 18<br>\n",
    "1 x 3 =  3 2 x 3 = &nbsp;6 3 x 3 = &nbsp;9 4 x 3 = 12 5 x 3 = 15 6 x 3 = 18 7 x 3 = 21 8 x 3 = 24 9 x 3 = 27<br>\n",
    "1 x 4 =  4 2 x 4 = &nbsp;8 3 x 4 = 12 4 x 4 = 16 5 x 4 = 20 6 x 4 = 24 7 x 4 = 28 8 x 4 = 32 9 x 4 = 36<br>\n",
    "1 x 5 =  5 2 x 5 = 10 3 x 5 = 15 4 x 5 = 20 5 x 5 = 25 6 x 5 = 30 7 x 5 = 35 8 x 5 = 40 9 x 5 = 45<br>\n",
    "1 x 6 =  6 2 x 6 = 12 3 x 6 = 18 4 x 6 = 24 5 x 6 = 30 6 x 6 = 36 7 x 6 = 42 8 x 6 = 48 9 x 6 = 54<br>\n",
    "1 x 7 =  7 2 x 7 = 14 3 x 7 = 21 4 x 7 = 28 5 x 7 = 35 6 x 7 = 42 7 x 7 = 49 8 x 7 = 56 9 x 7 = 63<br>\n",
    "1 x 8 =  8 2 x 8 = 16 3 x 8 = 24 4 x 8 = 32 5 x 8 = 40 6 x 8 = 48 7 x 8 = 56 8 x 8 = 64 9 x 8 = 72<br>\n",
    "1 x 9 =  9 2 x 9 = 18 3 x 9 = 27 4 x 9 = 36 5 x 9 = 45 6 x 9 = 54 7 x 9 = 63 8 x 9 = 72 9 x 9 = 81<br>\n",
    "</font></tt>"
   ]
  },
  {
   "cell_type": "markdown",
   "id": "0019636e-6aec-4515-a578-b9985aaf6a3a",
   "metadata": {},
   "source": [
    "## <div id=\"flag\"><font color=\"blue\">5 旗標應用</font></div>"
   ]
  },
  {
   "cell_type": "markdown",
   "id": "c5dde3ee-501f-4b04-92dd-b3c2654050e1",
   "metadata": {},
   "source": [
    "## <font color=\"brown\">Missing Number</font>\n",
    "\n",
    "<b>Tech</b>\n",
    "<ol>\n",
    "    <li>Loop</li>\n",
    "    <li>Dynamic allocation</li>\n",
    "</ol>\n",
    "\n",
    "<b>Tasks</b>\n",
    "<ol>\n",
    "    <li>實作 LeetCode > Top Interview Questions > Easy Collection > Others > Missing Number</li>\n",
    "</ol>"
   ]
  },
  {
   "cell_type": "markdown",
   "id": "4d3d8ab5-3039-42fa-be23-990053d6f841",
   "metadata": {},
   "source": [
    "## <div id=\"nl2\"><font color=\"blue\">6. 巢狀迴圈搭配雙層 list 應用</font></div>"
   ]
  },
  {
   "cell_type": "markdown",
   "id": "2014599b-5f71-44dc-9df9-6555ef733e34",
   "metadata": {},
   "source": [
    "## <font color=\"brown\">Valid Sudoku</font>\n",
    "\n",
    "<b>Tech</b>\n",
    "<ol>\n",
    "    <li>Nested loop</li>\n",
    "    <li>Operators</li>\n",
    "</ol>\n",
    "\n",
    "<b>Tasks</b>\n",
    "<ol>\n",
    "    <li>實作 LeetCode > Top Interview Questions > Easy Collection > Array > Valid Sudoku</li>\n",
    "</ol>\n",
    "\n",
    "<b>Hints</b>\n",
    "<ol><tt>\n",
    "    <li><font color=\"green\">//</font></li>\n",
    "    <li><font color=\"green\">%</font></li>\n",
    "</tt></ol>"
   ]
  },
  {
   "cell_type": "markdown",
   "id": "69aaad9b-af85-4dbe-b79c-755dd2d87987",
   "metadata": {},
   "source": [
    "## <div id=\"dil\"><font color=\"blue\">7. 資料結構設計、判斷式、迴圈綜合應用</font></div>"
   ]
  },
  {
   "cell_type": "markdown",
   "id": "0dc4cbbd-d2ab-40d6-ac03-4a7f7d872155",
   "metadata": {},
   "source": [
    "## <font color=\"brown\">大老二一決勝負</font>\n",
    "\n",
    "<b>Tech</b>\n",
    "<ol>\n",
    "    <li>if-elif-else</li>\n",
    "    <li>Data types</li>\n",
    "    <li>Loop</li>\n",
    "    <li>random</li>\n",
    "    <li>Weights design</li>\n",
    "</ol>\n",
    "\n",
    "<b>Tasks</b>\n",
    "<ol>\n",
    "    <li>隨機各發一張撲克牌給 player1 與 player2，撲克牌結構範例為 ('SPADE', '3') 代表 黑桃3</li>\n",
    "    <li>比較 player1 與 player2 勝負\n",
    "        <ol>\n",
    "            <li type=\"a\">先比數字，數字大小依序為 '2' > 'A' > 'K' > 'Q' > 'J' > '10' > '9' > '8' > '7' > '6' > '5' > '4' > '3'，較大者獲勝\n",
    "            <li type=\"a\">若雙方數字相同則比較花色，花色大小依序為 'SPADE' > 'HEART' > 'DIAMOND' > 'CLUB'，較大者獲勝\n",
    "        </ol>\n",
    "    </li>\n",
    "    <li>輸出 player1 與 player2 勝負</li>\n",
    "</ol>"
   ]
  },
  {
   "cell_type": "markdown",
   "id": "5d3dc676-1369-41cb-b386-21593fabe69c",
   "metadata": {},
   "source": [
    "## <div id=\"ila\"><font color=\"blue\">8. 判斷式、迴圈、演算法綜合應用</font></div>"
   ]
  },
  {
   "cell_type": "markdown",
   "id": "48f8e435-2715-4fc5-b27c-b0afe5ae53d2",
   "metadata": {},
   "source": [
    "## <font color=\"brown\">遊戲選角</font>\n",
    "\n",
    "<b>Tech</b>\n",
    "<ol>\n",
    "    <li>Loop</li>\n",
    "    <li>Sort</li>\n",
    "</ol>\n",
    "\n",
    "<b>Tasks</b>\n",
    "<ol>\n",
    "    <li>完成 APCS 實作題_題目範例：遊戲選角</li>\n",
    "</ol>"
   ]
  },
  {
   "cell_type": "markdown",
   "id": "bdaa50b6-7a6e-48e9-ab6b-d8a5623e4ccb",
   "metadata": {},
   "source": [
    "## <font color=\"brown\">成績指標</font>\n",
    "\n",
    "<b>Tech</b>\n",
    "<ol>\n",
    "    <li>if-elif-else</li>\n",
    "    <li>Loop</li>\n",
    "    <li>Algorithm</li>\n",
    "    <li>time</li>\n",
    "</ol>\n",
    "\n",
    "<b>Tasks</b>\n",
    "<ol>\n",
    "    <li>完成 APCS 實作題_題目範例：成績指標</li>\n",
    "    <li>找出最有效率的演算法</li>\n",
    "</ol>\n",
    "\n",
    "<b>Hints</b>\n",
    "<ol>\n",
    "    <li>執行時間可由執行前與執行後的 <font color=\"green\">time.time()</font> 差值測得</li>\n",
    "    <li>效率比較時須注意公平性</li>\n",
    "</ol>"
   ]
  },
  {
   "cell_type": "markdown",
   "id": "68d0a7b1-ff46-4b59-8cf8-99be7a566c84",
   "metadata": {},
   "source": [
    "## <div id=\"pa\"><font color=\"blue\">9. 效率衡量</font></div>"
   ]
  },
  {
   "cell_type": "markdown",
   "id": "fcbe3de2-ea16-448e-9550-c2867a942bbe",
   "metadata": {},
   "source": [
    "## <font color=\"brown\">泡泡排序</font>\n",
    "\n",
    "<b>Tech</b>\n",
    "<ol>\n",
    "    <li>Loop</li>\n",
    "    <li>time</li>\n",
    "</ol>\n",
    "\n",
    "<b>Tasks</b>\n",
    "<ol>\n",
    "    <li>實作泡泡排序演算法，與 Python 內建排序工具比較執行效率</li>\n",
    "</ol>"
   ]
  },
  {
   "cell_type": "markdown",
   "id": "3535d021-d5bd-486d-a3ac-301f252d55a1",
   "metadata": {
    "jp-MarkdownHeadingCollapsed": true
   },
   "source": [
    "## <div id=\"fh\"><font color=\"blue\">10. 檔案處理與分析</font></div>"
   ]
  },
  {
   "cell_type": "markdown",
   "id": "c027b009-920e-4f42-b3a7-d39186967850",
   "metadata": {},
   "source": [
    "## <font color=\"brown\">Log 分析</font>\n",
    "\n",
    "<b>Tech</b>\n",
    "<ol>\n",
    "    <li>open</li>\n",
    "    <li>if-elif-else</li>\n",
    "    <li>Loop</li>\n",
    "    <li>string handling</li>\n",
    "    <li>dict</li>\n",
    "</ol>\n",
    "\n",
    "<b>Tasks</b>\n",
    "<ol>\n",
    "    <li>讀取 log 檔 goodeploy_log.csv 內容，計算各 function 被叫用的次數。輸出的樣式需參閱 Output，項目順序可不同，但格式需完全相同，請注意對齊</li>\n",
    "    <li>將上述結果輸出至檔案</li>\n",
    "</ol>\n",
    "\n",
    "\n",
    "<b>Notes</b>\n",
    "<ol>\n",
    "    <li>[CoursesFirestore:get_course] 樣式即為 function name</li>\n",
    "    <li>Function name 需由程式判斷後讀取，不可將如 CoursesFirestore:get_course 等 function name 字樣寫死在程式中</li>\n",
    "</ol>\n",
    "\n",
    "<b>Output</b>\n",
    "\n",
    "<tt>\n",
    "CoursesFirestore:get_course &nbsp;&nbsp;&nbsp;&nbsp;&nbsp; 231 times<br>\n",
    "LineUsersFirestore:get_user &nbsp;&nbsp;&nbsp;&nbsp;&nbsp; 108 times<br>\n",
    "CoursesFirestore:get_courses &nbsp;&nbsp;&nbsp;&nbsp;&nbsp; 16 times<br>\n",
    "LineUsersFirestore:increase &nbsp;&nbsp;&nbsp;&nbsp;&nbsp;&nbsp; 93 times<br>\n",
    "LineUsersFirestore:update_user &nbsp;&nbsp;&nbsp; 13 times<br>\n",
    "LineUsersFirestore:meet_criterion &nbsp; 3 times<br>\n",
    "CoursesFirestore:__init__ &nbsp;&nbsp;&nbsp;&nbsp;&nbsp;&nbsp;&nbsp;&nbsp;&nbsp; 2 times<br>\n",
    "</tt>"
   ]
  },
  {
   "cell_type": "markdown",
   "id": "8fbfbc9a-88ad-4317-ad75-be6129b84fee",
   "metadata": {},
   "source": [
    "## <div id=\"csv\"><font color=\"blue\">11. 檔案處理與分析</font></div>"
   ]
  },
  {
   "cell_type": "markdown",
   "id": "b889dc8a-89de-433b-88df-25d59e237b5a",
   "metadata": {},
   "source": [
    "## <font color=\"brown\">CSV 分析</font>\n",
    "\n",
    "<b>Tech</b>\n",
    "<ol>\n",
    "    <li>open</li>\n",
    "    <li>if-elif-else</li>\n",
    "    <li>Loop</li>\n",
    "    <li>pandas</li>\n",
    "</ol>\n",
    "\n",
    "<b>Tasks</b>\n",
    "<ol>\n",
    "    <li>讀取 orders.csv，找出所有數量大於 10,000 的訂單代號，以 list 形式儲存於 orders</li>\n",
    "    <li>以 pandas 完成上述任務</li>\n",
    "</ol>"
   ]
  },
  {
   "cell_type": "markdown",
   "id": "19f92c35-6c03-485e-8eed-c84d8935e5f5",
   "metadata": {},
   "source": [
    "## <div id=\"dfh\"><font color=\"blue\">12. 目錄與檔案處理</font></div>"
   ]
  },
  {
   "cell_type": "markdown",
   "id": "d1adf654-44bb-4221-b9a8-62dde49c4028",
   "metadata": {},
   "source": [
    "## <font color=\"brown\">計算樹木</font>\n",
    "\n",
    "<b>Tech</b>\n",
    "<ol>\n",
    "    <li>Directory</li>\n",
    "    <li>File</li>\n",
    "    <li>Function</li>\n",
    "    <li>Loop</li>\n",
    "    <li>glob</li>\n",
    "    <li>set</li>\n",
    "    <li>sorted</li>\n",
    "    <li>Output handling</li>\n",
    "</ol>\n",
    "\n",
    "<b>Tasks</b>\n",
    "<ol>\n",
    "    <li>於 trees 目錄中，區分訓練集 (train)、測試集 (test) 計算各樹種 .jpg 檔數量，並將結果輸出至螢幕或 output.csv</li>\n",
    "    <li>在 test 資料夾新增空的資料夾 AA，同時在 train 資料夾新增空的資料夾 ZZ，結果是否依然正確？</li>\n",
    "    <li>建立 function 能夠彈性選擇將結果輸出至螢幕或檔案</li>\n",
    "</ol>\n",
    "\n",
    "<b>Output</b>\n",
    "\n",
    "<tt><font color='blue'>\n",
    ",AS,BJ,CC,DR,FM,KE,LF,MA,MI,MP,PC,RR,TC,TM<br>\n",
    "test,35,33,44,31,50,50,33,28,25,28,30,25,32,45<br>\n",
    "train,96,164,201,105,295,203,150,56,100,68,105,68,62,170<br>\n",
    "</font></tt>\n",
    "\n",
    "<b>Notes</b>\n",
    "\n",
    "<ol>\n",
    "    <li>'train', 'test', 'AS', 'BJ'... 等不得寫死，須以程式取得</li>\n",
    "    <li>AS: 黑板樹, BJ: 茄冬, CC: 樟樹, DR: 鳳凰木, FM: 榕樹, KE: 台灣欒樹, LF: 楓香, MA: 苦楝, MI: 白千層, MP: 水黃皮, PC: 阿勃勒, RR: 大王椰子, TC: 大葉欖仁, TM: 小葉欖仁</li>\n",
    "</ol>"
   ]
  },
  {
   "cell_type": "markdown",
   "id": "dccd25a6-9df9-49b4-b7be-abcffd36bc40",
   "metadata": {},
   "source": [
    "## <div id=\"ftd\"><font color=\"blue\">13. 容錯設計</font></div>"
   ]
  },
  {
   "cell_type": "markdown",
   "id": "b510ae1a-149a-4d7f-82d9-af3988b2461e",
   "metadata": {},
   "source": [
    "## <font color=\"brown\">猜數字</font>\n",
    "\n",
    "<b>Tech</b>\n",
    "<ol>\n",
    "    <li>Function</li>\n",
    "    <li>Loop</li>\n",
    "    <li>input</li>\n",
    "    <li>str</li>\n",
    "    <li>Falut tolerance design</li>\n",
    "</ol>\n",
    "\n",
    "<b>Tasks</b>\n",
    "<ol>\n",
    "    <li>製作猜數字遊戲，由電腦隨機出 4 個不同數字讓用戶猜，每次用戶猜測的 4 個數字會由電腦輸出 ?A?B 的結果；每個遊戲在用戶完全猜對 (4A0B) 或猜測 10 次之後結束</li>\n",
    "    <li>程式需自訂 function，並做容錯處理</li>\n",
    "</ol>\n",
    "\n",
    "\n",
    "<b>Output</b>\n",
    "\n",
    "<tt>\n",
    "round&nbsp;&nbsp;1 請猜4個數字 1234<br>\n",
    "round&nbsp;&nbsp;1: 0A 1B<br>\n",
    "round&nbsp;&nbsp;2 請猜4個數字 24580<br>\n",
    "輸入錯誤<br>\n",
    "round&nbsp;&nbsp;3 請猜4個數字 99aa</br>\n",
    "輸入錯誤<br>\n",
    "round&nbsp;&nbsp;4 請猜4個數字   2 3 45<br>\n",
    "round&nbsp;&nbsp;4: 0A 2B<br>\n",
    "round&nbsp;&nbsp;5 請猜4個數字 2322<br>\n",
    "輸入錯誤<br>\n",
    "round&nbsp;&nbsp;6 請猜4個數字 7013<br>\n",
    "round&nbsp;&nbsp;6: 1A 0B<br>\n",
    "round&nbsp;&nbsp;7 請猜4個數字 AAAd<br>\n",
    "輸入錯誤<br>\n",
    "round&nbsp;&nbsp;8 請猜4個數字 7592<br>\n",
    "round&nbsp;&nbsp;8: 2A 2B<br>\n",
    "round&nbsp;&nbsp;9 請猜4個數字 7529<br>\n",
    "round&nbsp;&nbsp;9: 4A\n",
    "</tt>"
   ]
  },
  {
   "cell_type": "markdown",
   "id": "4c7c1a80-4b90-4e3e-a022-f5e106769148",
   "metadata": {},
   "source": [
    "## <div id=\"cd\"><font color=\"blue\">14. 類別設計</font></div>"
   ]
  },
  {
   "cell_type": "markdown",
   "id": "e0ab0269-86d6-43a6-beb7-4b94ea919c7a",
   "metadata": {},
   "source": [
    "## <font color=\"brown\">大老二莊家</font>\n",
    "\n",
    "<b>Tech</b>\n",
    "<ol>\n",
    "    <li>Class</li>\n",
    "    <li>Loop</li>\n",
    "    <li>input</li>\n",
    "    <li>str</li>\n",
    "</ol>\n",
    "\n",
    "<b>Tasks</b>\n",
    "<ol>\n",
    "    <li>設計並建立大老二莊家類別，能夠洗牌，發牌，並能夠依大老二規則比較卡牌大小</li>\n",
    "</ol>\n",
    "\n",
    "<b>Usage</b>"
   ]
  },
  {
   "cell_type": "code",
   "execution_count": null,
   "id": "746f33ac-4ffe-45f6-86d3-429990028c4d",
   "metadata": {},
   "outputs": [],
   "source": [
    "dealer = Dealer()\n",
    "a, b = dealer.deal(2)\n",
    "print(f'{a} vs {b}')\n",
    "print(dealer.win(a, b), 'win')"
   ]
  },
  {
   "cell_type": "markdown",
   "id": "32021d58-766c-4573-bdb5-103068a627ec",
   "metadata": {},
   "source": [
    "<tt>\n",
    "('CLUB', '7') vs ('HEART', '9')<br>\n",
    "('HEART', '9') win\n",
    "</tt>"
   ]
  },
  {
   "cell_type": "markdown",
   "id": "24bd44dd-2ca1-4099-a0e5-1769dd4b8449",
   "metadata": {},
   "source": [
    "<b>Tasks</b>\n",
    "<ol>\n",
    "    <li value=\"2\">分別建立莊家與大老二卡牌兩個類別，莊家能夠洗牌，發牌，並以大老二卡牌類別的比較運算子依大老二規則比較大小</li>\n",
    "</ol>\n",
    "\n",
    "<b>Usage</b>"
   ]
  },
  {
   "cell_type": "code",
   "execution_count": null,
   "id": "2719ad7c-3921-4993-a84a-7ad9c6d08eb9",
   "metadata": {},
   "outputs": [],
   "source": [
    "dealer = Dealer()\n",
    "a, b = dealer.deal(2)\n",
    "print(f'{a} vs {b}')\n",
    "print(f'{a} <  {b}: {a < b}')\n",
    "print(f'{a} == {b}: {a == b}')\n",
    "print(f'{a} >= {b}: {a >= b}')"
   ]
  },
  {
   "cell_type": "markdown",
   "id": "d2124f0c-18f4-4ffa-b5ff-3cf5d647e8aa",
   "metadata": {},
   "source": [
    "<tt>\n",
    "&lt;DIAMOND, Q&gt; vs &lt;HEART, J&gt;<br>\n",
    "&lt;DIAMOND, Q&gt; < &nbsp;&lt;HEART, J&gt;: False<br>\n",
    "&lt;DIAMOND, Q&gt; == &lt;HEART, J&gt;: False<br>\n",
    "&lt;DIAMOND, Q&gt; >= &lt;HEART, J&gt;: True<br>\n",
    "</tt>\n",
    "\n",
    "<br>\n",
    "\n",
    "<b>Hints</b>\n",
    "\n",
    "<ol><tt>\n",
    "    <li><font color=\"green\">__lt__()</font></li>\n",
    "    <li><font color=\"green\">__le__()</font></li>\n",
    "    <li><font color=\"green\">__gt__()</font></li>\n",
    "    <li><font color=\"green\">__ge__()</font></li>\n",
    "    <li><font color=\"green\">__eq__()</font></li>\n",
    "    <li><font color=\"green\">__len__()</font></li>\n",
    "    <li><font color=\"green\">__str__()</font></li>\n",
    "</tt></ol>"
   ]
  },
  {
   "cell_type": "markdown",
   "id": "af171f55-7880-4f19-af77-e01954afe91e",
   "metadata": {},
   "source": [
    "## <div id=\"alg\"><font color=\"blue\">15. 演算法演練</font></div>"
   ]
  },
  {
   "cell_type": "markdown",
   "id": "929ae03f-b809-4b18-a2fc-c0017a091aee",
   "metadata": {},
   "source": [
    "## <font color=\"brown\">Move Zeros</font>\n",
    "\n",
    "<b>Tech</b>\n",
    "<ol>\n",
    "    <li>Loop</li>\n",
    "    <li>list</li>\n",
    "    <li>Algorithm</li>\n",
    "</ol>\n",
    "\n",
    "<b>Tasks</b>\n",
    "<ol>\n",
    "    <li>實作 LeetCode > Top Interview Questions > Easy Collection > Array > Move Zeros</li>\n",
    "</ol>"
   ]
  },
  {
   "cell_type": "markdown",
   "id": "dbe4275d-1853-452b-b6aa-0372fffab6f9",
   "metadata": {},
   "source": [
    "## <div id=\"alg2\"><font color=\"blue\">16. 演算法挑戰</font></div>"
   ]
  },
  {
   "cell_type": "markdown",
   "id": "401c4da4-d525-4b86-9b23-0d0c14d306df",
   "metadata": {},
   "source": [
    "## <font color=\"brown\">Best Time to Buy and Sell Stock</font>\n",
    "\n",
    "<b>Tech</b>\n",
    "<ol>\n",
    "    <li>Loop</li>\n",
    "    <li>list</li>\n",
    "    <li>Algorithm</li>\n",
    "</ol>\n",
    "\n",
    "<b>Tasks</b>\n",
    "<ol>\n",
    "    <li>實作 LeetCode > Top Interview Questions > Easy Collection > Dynamic Programming > Best Time to Buy and Sell Stock</li>\n",
    "</ol>"
   ]
  }
 ],
 "metadata": {
  "kernelspec": {
   "display_name": "Python 3 (ipykernel)",
   "language": "python",
   "name": "python3"
  },
  "language_info": {
   "codemirror_mode": {
    "name": "ipython",
    "version": 3
   },
   "file_extension": ".py",
   "mimetype": "text/x-python",
   "name": "python",
   "nbconvert_exporter": "python",
   "pygments_lexer": "ipython3",
   "version": "3.12.11"
  }
 },
 "nbformat": 4,
 "nbformat_minor": 5
}
